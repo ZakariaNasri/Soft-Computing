{
 "cells": [
  {
   "cell_type": "markdown",
   "metadata": {},
   "source": [
    "### L’algorithme génétique est constitué d'une population d’individus qui évolue par application des opérateurs génétiques issus de la théoriede Darwin. Chaque individu représente une solution candidate à un problème donné. Un codage binaire ou réel sera utilisé selon la nature du problème à résoudre. \n",
    "### L’algorithme génétique est itératif et commence avec une population initialisée  aléatoirement dans l’espace de recherche. \n",
    "### Durant chaque itération, la fitness de chaque individu de la population est évaluée; la fitness représente la fonction objective du problème qu’on veut optimiser.  Les individus de la population les mieux adaptés ont plus de choix d’être sélectionnés pour être combinés et éventuellement mutés et former une nouvelle population qui sera par la suite utilisée dans la prochaine itération de l’algorithme. \n",
    "### L’algorithme se termine quand le nombre maximum des itérations est atteint.  "
   ]
  },
  {
   "cell_type": "markdown",
   "metadata": {},
   "source": [
    "# TP1  L'algorithme génétique "
   ]
  },
  {
   "cell_type": "markdown",
   "metadata": {},
   "source": [
    "##  Application de l'algorithme génétique pour l'optimisation de fonctions"
   ]
  },
  {
   "cell_type": "markdown",
   "metadata": {},
   "source": [
    "## On considère la fonction $$f(x)= 31x- x^2 $$  \n",
    "## $x$ est un entier et $x$ ε $[0,31]$\n",
    "\n",
    "## Proposer une implémentation d’un algorithme génétique AG avec un codage binaire pour trouver le maximum de la fonction f. \n",
    " "
   ]
  },
  {
   "cell_type": "code",
   "execution_count": 48,
   "metadata": {
    "colab": {
     "base_uri": "https://localhost:8080/"
    },
    "id": "J4FE9Rp6AL5P",
    "outputId": "9ed49fe5-3683-4471-e4a9-b0d9d7992caa"
   },
   "outputs": [],
   "source": [
    "import random\n",
    "import matplotlib.pyplot as pl\n",
    "import numpy as np"
   ]
  },
  {
   "cell_type": "code",
   "execution_count": 49,
   "metadata": {},
   "outputs": [],
   "source": [
    "## 1. Initialisation des paramètres de l'algorithme génétique"
   ]
  },
  {
   "cell_type": "code",
   "execution_count": 50,
   "metadata": {
    "id": "uqGVhjCzqBMG"
   },
   "outputs": [],
   "source": [
    "Npop = 50\n",
    "n = 5    \n",
    "Pr_cr = 0.9 \n",
    "Pr_mut = 0.01 \n",
    "Maxgen = 1000"
   ]
  },
  {
   "cell_type": "code",
   "execution_count": 51,
   "metadata": {},
   "outputs": [],
   "source": [
    "## 2. Définition de la fonction à optimiser : la fitness"
   ]
  },
  {
   "cell_type": "code",
   "execution_count": 52,
   "metadata": {},
   "outputs": [],
   "source": [
    "# TODO\n",
    "def fitness(x):\n",
    "    return 31 * x - x**2"
   ]
  },
  {
   "cell_type": "code",
   "execution_count": 53,
   "metadata": {},
   "outputs": [],
   "source": [
    "\n",
    "def calcFit(chromosome):\n",
    "    return fitness(int(''.join(map(str, chromosome)), 2))\n",
    "## 3. Initialisation de la population "
   ]
  },
  {
   "cell_type": "code",
   "execution_count": 54,
   "metadata": {},
   "outputs": [],
   "source": [
    "def population_initiale(Npop, n):\n",
    "    population = []\n",
    "    for _ in range(Npop):\n",
    "        chromosome = [random.randint(0, 1) for _ in range(n)]\n",
    "        fitnessV = 0\n",
    "        population.append((chromosome, fitnessV))\n",
    "    return population\n"
   ]
  },
  {
   "cell_type": "code",
   "execution_count": 55,
   "metadata": {},
   "outputs": [],
   "source": [
    "## 4. Evaluation de la qualité de chaque solution "
   ]
  },
  {
   "cell_type": "code",
   "execution_count": 56,
   "metadata": {
    "id": "Zu0DUcyQp9jD"
   },
   "outputs": [],
   "source": [
    "# TODO\n",
    "def evaluate_population(population):\n",
    "    for i in range(len(population)):\n",
    "        chromosome, _ = population[i]\n",
    "        population[i] = (chromosome, calcFit(chromosome))           "
   ]
  },
  {
   "cell_type": "code",
   "execution_count": 57,
   "metadata": {},
   "outputs": [],
   "source": [
    "## 5. l'operateur selection par tournoi"
   ]
  },
  {
   "cell_type": "code",
   "execution_count": 58,
   "metadata": {},
   "outputs": [],
   "source": [
    "# Fonction d'opérateur de sélection par tournoi\n",
    "# Selected est la sous_population sélectionnée pour le crossover et la mutation\n",
    "# TODO\n",
    "def tournament_selection(population, k):\n",
    "    selected = []\n",
    "    for _ in range(len(population)):\n",
    "        tournament = random.sample(population, k)    \n",
    "        winner = max(tournament, key=lambda ind: ind[1])\n",
    "        selected.append(winner)\n",
    "    return selected\n"
   ]
  },
  {
   "cell_type": "code",
   "execution_count": 59,
   "metadata": {},
   "outputs": [],
   "source": [
    "## 6. L'opérateur crossover"
   ]
  },
  {
   "cell_type": "code",
   "execution_count": 60,
   "metadata": {},
   "outputs": [],
   "source": [
    "# TODO\n",
    "def crossover(population, Pr_cr):\n",
    "    descendants = []\n",
    "    for _ in range(len(population) // 2):\n",
    "        parent1, parent2 = random.sample(population, 2)\n",
    "        if random.random() < Pr_cr:\n",
    "            crossover_point = random.randint(1, len(parent1[0]) - 1)\n",
    "            child1 = parent1[0][:crossover_point] + parent2[0][crossover_point:]\n",
    "            child2 = parent2[0][:crossover_point] + parent1[0][crossover_point:]\n",
    "            descendants.append((child1, calcFit(child1)))\n",
    "            descendants.append((child2, calcFit(child2)))\n",
    "        else:\n",
    "            descendants.append(parent1)\n",
    "            descendants.append(parent2)\n",
    "    return descendants\n"
   ]
  },
  {
   "cell_type": "code",
   "execution_count": 61,
   "metadata": {},
   "outputs": [],
   "source": [
    "## 7. L'opérateur de mutation"
   ]
  },
  {
   "cell_type": "code",
   "execution_count": 62,
   "metadata": {},
   "outputs": [],
   "source": [
    "# TODO\n",
    "# Fonction d'opérateur de mutation\n",
    "def mutation(population, Pr_mut):\n",
    "    for i in range(len(population)):\n",
    "        chromosome, _ = population[i]\n",
    "        mutated_chromosome = [bit if random.random() >= Pr_mut else 1 - bit for bit in chromosome]\n",
    "        population[i] = (mutated_chromosome, calcFit(mutated_chromosome))\n",
    "\n",
    "    "
   ]
  },
  {
   "cell_type": "code",
   "execution_count": 63,
   "metadata": {},
   "outputs": [],
   "source": [
    "# fonction remplacement\n",
    "# 3 remplacements sont utilisés:  les fils remplacent toujours les parents\n",
    "#                                 Les fils remplacent les parents s'ils sont meilleurs\n",
    "#                                 les fils sont injectés dans la population et les Npop meilleurs individus sont choisis\n",
    "# les parametres de cette fonction dépendent de la stratégie choisie\n",
    "def replacement(population, descendants, strategy='always_replace'):\n",
    "    if strategy == 'always_replace':\n",
    "        population[:] = descendants\n",
    "    elif strategy == 'replace_if_better':\n",
    "        for i in range(len(population)):\n",
    "            if descendants[i][1] > population[i][1]:  # Compare fitness values\n",
    "                population[i] = descendants[i]\n",
    "    elif strategy == 'inject_and_select_best':\n",
    "        combined_population = population + descendants\n",
    "        combined_population.sort(key=lambda x: x[1], reverse=True)  # Sort by fitness, highest to lowest\n",
    "        population[:] = combined_population[:len(population)]  # Select top individuals\n",
    "    else:\n",
    "        raise ValueError(\"Invalid strategy specified.\")\n"
   ]
  },
  {
   "cell_type": "code",
   "execution_count": 64,
   "metadata": {
    "id": "gcD-3sIBoy68"
   },
   "outputs": [],
   "source": [
    "## 8. le programme principal"
   ]
  },
  {
   "cell_type": "code",
   "execution_count": 65,
   "metadata": {},
   "outputs": [
    {
     "data": {
      "text/plain": [
       "[<matplotlib.lines.Line2D at 0x2f45d5ac310>]"
      ]
     },
     "execution_count": 65,
     "metadata": {},
     "output_type": "execute_result"
    },
    {
     "data": {
      "image/png": "[encoded data removed]",
      "text/plain": [
       "<Figure size 640x480 with 1 Axes>"
      ]
     },
     "metadata": {},
     "output_type": "display_data"
    }
   ],
   "source": [
    "fit = []   # Contains the maximum fitness obtained during the 10 runs\n",
    "for run in range(10):\n",
    "    population = population_initiale(Npop, n)\n",
    "    gen = 0\n",
    "     \n",
    "    while gen < Maxgen:\n",
    "        evaluate_population(population)\n",
    "        selected = tournament_selection(population, 2)\n",
    "        descendants = crossover(selected, Pr_cr)\n",
    "        mutation(descendants, Pr_mut)\n",
    "        replacement(population, descendants, strategy='always_replace')\n",
    "        gen += 1\n",
    "    \n",
    "    max_value = max(population, key=lambda ind: ind[1])\n",
    "    fit.append(max_value[1])  \n",
    "\n",
    "pl.plot(fit)\n",
    "\n",
    "\n"
   ]
  },
  {
   "cell_type": "code",
   "execution_count": 66,
   "metadata": {},
   "outputs": [
    {
     "name": "stdout",
     "output_type": "stream",
     "text": [
      "la solution moyenne trouvée= 240.0\n"
     ]
    }
   ],
   "source": [
    "average=np.mean(fit)\n",
    "print(\"la solution moyenne =\",average)"
   ]
  }
 ],
 "metadata": {
  "colab": {
   "provenance": []
  },
  "kernelspec": {
   "display_name": "Python 3 (ipykernel)",
   "language": "python",
   "name": "python3"
  },
  "language_info": {
   "codemirror_mode": {
    "name": "ipython",
    "version": 3
   },
   "file_extension": ".py",
   "mimetype": "text/x-python",
   "name": "python",
   "nbconvert_exporter": "python",
   "pygments_lexer": "ipython3",
   "version": "3.11.8"
  }
 },
 "nbformat": 4,
 "nbformat_minor": 1
}
